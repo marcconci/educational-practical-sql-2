{
 "cells": [
  {
   "cell_type": "markdown",
   "id": "25aa48e8",
   "metadata": {},
   "source": [
    "It’s important to understand data types because storing data in the appropriate format is fundamental to building usable databases and performing\n",
    "accurate analysis.\n",
    "\n",
    "In a SQL database, each column in a table can hold one and only one data type, which you define in the __CREATE TABLE__  statement by declaring the data type after the column name. "
   ]
  },
  {
   "cell_type": "code",
   "execution_count": null,
   "id": "ff76bd72",
   "metadata": {},
   "outputs": [],
   "source": [
    "CREATE TABLE eagle_watch (\n",
    "    observation_date date, \n",
    "    eagles_seen integer, \n",
    "    notes text\n",
    ");"
   ]
  },
  {
   "cell_type": "markdown",
   "id": "182332ed",
   "metadata": {},
   "source": [
    "These data types fall into the three categories you’ll encounter most: \n",
    "- __Characters:__ Any character or symbol \n",
    "- __Numbers:__ Includes whole numbers and fractions\n",
    "- __Dates and times:__ Temporal information"
   ]
  },
  {
   "cell_type": "markdown",
   "id": "d47790ad",
   "metadata": {},
   "source": [
    "## Understanding Characters"
   ]
  },
  {
   "cell_type": "markdown",
   "id": "a9cbe65c",
   "metadata": {},
   "source": [
    "Character string types are general-purpose types suitable for any combination of text, numbers, and symbols. Character types include the following:\n",
    "- __char(n):__ \n",
    "    - A fixed-length column where the character length is specified by n. \n",
    "- __varchar(n):__ \n",
    "    - A variable-length column where the maximum length is specified by n. If you insert fewer characters than the maximum, PostgreSQL will not store extra spaces. For example, the string blue will take four spaces, whereas the string 123 will take three. In large databases, this practice saves considerable space. This type, included in standard SQL, also can be specified using the longer name character varying(n).\n",
    "- __text:__ \n",
    "    - A variable-length column of unlimited length. (According to the PostgreSQL documentation, the longest possible character string you can store is about 1 gigabyte).\n",
    "    \n",
    "There is no substantial difference in performance among the three types. The flexibility and potential space savings of varchar and text seem to give them an advantage. But if you search discussions online, some users suggest that defining a column that will always have the same number of characters with char is a good way to signal what data it should contain. For instance, you might see char(2) used for US state postal abbreviations."
   ]
  },
  {
   "cell_type": "markdown",
   "id": "489b27f1",
   "metadata": {},
   "source": [
    "CREATE TABLE char_data_types ( \n",
    "    char_column char(10), \n",
    "    varchar_column varchar(10), \n",
    "    text_column text\n",
    ");\n",
    "INSERT INTO char_data_types \n",
    "    VALUES\n",
    "        ('abc', 'abc', 'abc'), ('defghi', 'defghi', 'defghi');\n",
    "COPY char_data_types TO 'C:\\YourDirectory\\typetest.txt'\n",
    "WITH (FORMAT CSV, HEADER, DELIMITER '|');"
   ]
  },
  {
   "cell_type": "markdown",
   "id": "fa5ff88f",
   "metadata": {},
   "source": [
    "In PostgreSQL, COPY table_name FROM is the import function, and COPY table_name TO is the export function."
   ]
  },
  {
   "cell_type": "markdown",
   "id": "6ea337d7",
   "metadata": {},
   "source": [
    "## Understanding Numbers"
   ]
  },
  {
   "cell_type": "markdown",
   "id": "06bec5ab",
   "metadata": {},
   "source": [
    "The SQL number types include the following: \n",
    "- __Integers:__ Whole numbers, both positive and negative\n",
    "- __Fixed-point and floating-point:__ Two formats of fractions of whole numbers"
   ]
  },
  {
   "cell_type": "markdown",
   "id": "552c0810",
   "metadata": {},
   "source": [
    "### Using Integers\n",
    "\n",
    "These are whole numbers, both positive and negative, including zero.\n",
    "\n",
    "The SQL standard provides three integer types: smallint, integer, and bigint. The difference between the three types is the maximum size of the numbers they can hold. \n",
    "\n",
    "__Auto-Incrementing Integers__\n",
    "\n",
    "With PostgreSQL, you have two ways to auto-increment an integer column. One is the serial data type, a PostgreSQL-specific implementation of the ANSI SQL standard for auto-numbered identity columns. The other is\n",
    "the ANSI SQL standard IDENTITY keyword.\n",
    "\n",
    "    1. Auto-Incrementing with serial"
   ]
  },
  {
   "cell_type": "code",
   "execution_count": null,
   "id": "87bac74d",
   "metadata": {},
   "outputs": [],
   "source": [
    "    CREATE TABLE people ( \n",
    "        id serial,\n",
    "        person_name varchar(100)\n",
    "    );"
   ]
  },
  {
   "cell_type": "markdown",
   "id": "e9b7c821",
   "metadata": {},
   "source": [
    "    Every time a new row with a person_name is added to the table, the id column will increment by 1.\n",
    "\n",
    "2. Auto-Incrementing with IDENTITY\n",
    "\n",
    "    You can specify IDENTITY in two ways: . \n",
    "\n",
    "        1. GENERATED ALWAYS AS IDENTITY tells the database to always fill the column with an auto-incremented value.\n",
    "        2. GENERATED BY DEFAULT AS IDENTITY tells the database to fill the column with an auto-incremented value by default if the user does not supply one. This option allows for the possibility of duplicate values, which can make use of it problematic for creating key columns."
   ]
  },
  {
   "cell_type": "code",
   "execution_count": null,
   "id": "23603360",
   "metadata": {},
   "outputs": [],
   "source": [
    "        CREATE TABLE people ( \n",
    "            id integer GENERATED ALWAYS AS IDENTITY, \n",
    "            person_name varchar(100)\n",
    "        );"
   ]
  },
  {
   "cell_type": "markdown",
   "id": "1012eb24",
   "metadata": {},
   "source": [
    "For the id data type, we use integer followed by the keywords __GENERATED ALWAYS AS IDENTITY.__ Now, every time we insert a person_name value into the table, the database will fill the id column with an auto-incremented value."
   ]
  },
  {
   "cell_type": "markdown",
   "id": "0a652ec8",
   "metadata": {},
   "source": [
    "## Using Decimal Numbers\n",
    "\n",
    "Decimals represent a whole number plus a fraction of a whole number; the fraction is represented by digits following a decimal point. In a SQL database, they’re handled by fixed-point and floating-point data types.\n",
    "\n",
    "### Understanding Fixed-Point Numbers\n",
    "\n",
    "The fixed-point type, also called the arbitrary precision type, is numeric(precision,scale). You give the argument precision as the maximum number of digits to the left and right of the decimal point, and the argument scale as the number of digits allowable on the right of the decimal point. Alternately, you can specify this type using decimal(precision,scale). Both are part of the ANSI SQL standard. If you omit specifying a scale value, the scale will be set to zero; in effect, that creates an integer. If you omit specifying the precision and the scale, the database will store values of any precision and scale up to the maximum allowed.\n",
    "\n",
    "### Understanding Floating-Point Types\n",
    "\n",
    "The two floating-point types are real and double precision, both part of the SQL standard. The difference between the two is how much data they store. The real type allows precision to six decimal digits, and double precision to 15 decimal digits of precision, both of which include the number of digits on both sides of the point. These floating-point types are also called variable-precision types. The database stores the number in parts representing the digits and an exponent—the location where the decimal point belongs. So, unlike numeric, where we specify fixed precision and scale, the decimal point in a given column can “float” depending on the number.\n",
    "\n",
    "### Using Fixed- and Floating-Point Types\n",
    "\n",
    "1. numeric, decimal:Up to 131,072 digits before the decimal point; up to 16,383 digits after the decimal point\n",
    "2. real: 6 decimal digits precision\n",
    "3. double precisio: 15 decimal digits precision"
   ]
  },
  {
   "cell_type": "code",
   "execution_count": null,
   "id": "3a628086",
   "metadata": {},
   "outputs": [],
   "source": [
    "CREATE TABLE number_data_types ( \n",
    "    numeric_column numeric(20,5), \n",
    "    real_column real,\n",
    "    double_column double precision );\n",
    "INSERT INTO number_data_types \n",
    "    VALUES\n",
    "        (.7, .7, .7),\n",
    "        (2.13579, 2.13579, 2.13579), (2.1357987654, 2.1357987654, 2.1357987654);\n",
    "        \n",
    "SELECT * FROM number_data_types;"
   ]
  },
  {
   "cell_type": "code",
   "execution_count": null,
   "id": "56da8b18",
   "metadata": {},
   "outputs": [],
   "source": [
    "numeric_column \n",
    "--------------\n",
    "0.70000 \n",
    "2.13579 \n",
    "2.13580\n",
    "\n",
    "real_column \n",
    "-----------\n",
    "0.7 \n",
    "2.13579 \n",
    "2.1357987\n",
    "\n",
    "double_column \n",
    "-------------\n",
    "0.7 \n",
    "2.13579\n",
    "2.1357987654"
   ]
  },
  {
   "cell_type": "markdown",
   "id": "7b4f4527",
   "metadata": {},
   "source": [
    "### Running into Trouble with Floating-Point Math\n",
    "\n",
    "The storage required by the numeric data type is variable, and depending on the precision and scale specified, numeric can consume considerably more space than the floating-point types. If you’re working with millions of rows, it’s worth considering whether you can live with relatively inexact\n",
    "floating-point math."
   ]
  },
  {
   "cell_type": "code",
   "execution_count": null,
   "id": "987398fa",
   "metadata": {},
   "outputs": [],
   "source": [
    "SELECT  numeric_column * 10000000 AS fixed,\n",
    "           real_column * 10000000 AS floating \n",
    "    FROM number_data_types\n",
    "WHERE numeric_column = .7;"
   ]
  },
  {
   "cell_type": "code",
   "execution_count": null,
   "id": "622ab7ef",
   "metadata": {},
   "outputs": [],
   "source": [
    "fixed \n",
    "------------\n",
    "7000000.00000\n",
    "\n",
    "floating\n",
    "----------------\n",
    "6999999.88079071"
   ]
  },
  {
   "cell_type": "markdown",
   "id": "ecf69863",
   "metadata": {},
   "source": [
    "### Choosing Your Number Data Type\n",
    "\n",
    "Use integers when possible. Unless your data uses decimals, stick with integer types. If you’re working with decimal data and need calculations to be exact (dealing with money, for example), choose numeric or its equivalent, decimal. Float types will save space, but the inexactness of floating-point math won’t pass muster in many applications. Use them only when exactness is not as important.\n",
    "\n",
    "Choose a big enough number type. Unless you’re designing a database to hold millions of rows, err on the side of bigger. When using numeric or decimal, set the precision large enough to accommodate the number of digits on both sides of the decimal point. With whole numbers, use bigint unless you’re absolutely sure column values will be constrained to fit into\n",
    "the smaller integer or smallint type.\n",
    "\n",
    "## Understanding Dates and Times\n",
    "\n",
    "__timestamp__ Records date and time, which are useful for a range of situations you might track: departures and arrivals of passenger flights, a schedule, or incidents along a timeline. You will almost always want to add the keywords with time zone to ensure that the _time recorded_ for an event includes the time zone where it occurred.\n",
    "\n",
    "__date__ Records just the date. \n",
    "\n",
    "__time__ Records just the time. \n",
    "\n",
    "__interval__ Holds a value representing a unit of time expressed in the format quantity unit. It doesn’t record the start or end of a time period, only its length. "
   ]
  },
  {
   "cell_type": "code",
   "execution_count": null,
   "id": "a2513515",
   "metadata": {},
   "outputs": [],
   "source": [
    "CREATE TABLE date_time_types (\n",
    "    timestamp_column timestamp with time zone, \n",
    "    interval_column interval\n",
    ");\n",
    "\n",
    "INSERT INTO date_time_types \n",
    "    VALUES\n",
    "        ('2022-12-31 01:00 EST','2 days'), \n",
    "        ('2022-12-31 01:00 -8','1 month'),\n",
    "        ('2022-12-31 01:00 Australia/Melbourne','1 century'),\n",
    "        (now(),'1 week');\n",
    "\n",
    "SELECT * FROM date_time_types;"
   ]
  },
  {
   "cell_type": "code",
   "execution_count": null,
   "id": "465eb036",
   "metadata": {},
   "outputs": [],
   "source": [
    "timestamp_column \n",
    "----------------------------\n",
    "2022-12-31 01:00:00-05\n",
    "2022-12-31 04:00:00-05 \n",
    "2022-12-30 09:00:00-05\n",
    "2020-05-31 21:31:15.716063-05\n",
    "\n",
    "interval_column \n",
    "---------------\n",
    "2 days 1 mon\n",
    "100 years\n",
    "7 days"
   ]
  },
  {
   "cell_type": "markdown",
   "id": "24e69020",
   "metadata": {},
   "source": [
    "## Using the interval Data Type in Calculations\n",
    "\n",
    "The interval data type is useful for easy-to-understand calculations on date and time data. For example, let’s say you have a column that holds the date a client signed a contract. Using interval data, you can add 90 days to\n",
    "each contract date to determine when to follow up with the client."
   ]
  },
  {
   "cell_type": "markdown",
   "id": "8ec1d38c",
   "metadata": {},
   "source": [
    "SELECT timestamp_column, \n",
    "        interval_column,\n",
    "    timestamp_column - interval_column AS new_date\n",
    "FROM date_time_types;"
   ]
  },
  {
   "cell_type": "markdown",
   "id": "4b83cc8d",
   "metadata": {},
   "source": [
    "Note that the new_date column by default is formatted as type timestamp with time zone, allowing for the display of time values as well as dates if the interval value uses them."
   ]
  },
  {
   "cell_type": "markdown",
   "id": "0af6960c",
   "metadata": {},
   "source": [
    "## Understanding JSON and JSONB\n",
    "\n",
    "JSON, short for JavaScript Object Notation, is a structured data format used for both storing data and exchanging data between computer systems."
   ]
  },
  {
   "cell_type": "code",
   "execution_count": null,
   "id": "bf3064ee",
   "metadata": {},
   "outputs": [],
   "source": [
    "{   \"business_name\": \"Old Ebbitt Grill\", \n",
    "    \"business_type\": \"Restaurant\", \n",
    "    \"employees\": 300, \"address\": {\n",
    "        \"street\": \"675 15th St NW\", \n",
    "        \"city\": \"Washington\",\n",
    "        \"state\": \"DC\", \"zip_code\": \"20005\"\n",
    "}\n",
    "}"
   ]
  },
  {
   "cell_type": "markdown",
   "id": "bcd59462",
   "metadata": {},
   "source": [
    "This snippet of JSON shows the format’s basic structure. A key, for example business_name, is associated with a value—in this case, Old Ebbitt Grill. A key also can have as its value a collection of additional key/value pairs, as shown with address.\n",
    "\n",
    "PostgreSQL currently offers two data types for JSON, which both enforce valid JSON and support functions for working with data in that format:\n",
    "\n",
    "1. __json__ Stores an exact copy of the JSON text \n",
    "2. __jsonb__ Stores the JSON text in a binary format \n",
    "\n",
    "There are significant differences between the two. For example, jsonb supports indexing, which can improve processing speed.\n"
   ]
  },
  {
   "cell_type": "markdown",
   "id": "fe6f0ea1",
   "metadata": {},
   "source": [
    "## Using Miscellaneous Types\n",
    "\n",
    "\n",
    "PostgreSQL supports many additional types, including but not limited to the following: \n",
    "\n",
    "- __Boolean type__ that stores a value of true or false \n",
    "- __Geometric types__ that include points, lines, circles, and other twodimensional objects \n",
    "- __Text search types__ for PostgreSQL’s full-text search engine \n",
    "- __Network address types__, such as IP or MAC addresses \n",
    "- __A universally unique identifier (UUID) type__, sometimes used as a unique key value in tables\n",
    "- __Range types__, which let you specify a range of values, such as integers or timestamps \n",
    "- __Types for storing binary data__\n",
    "- __XML data type__ that stores information in that structured format"
   ]
  },
  {
   "cell_type": "markdown",
   "id": "08690c75",
   "metadata": {},
   "source": [
    "## Transforming Values from One Type to Another with CAST\n",
    "\n",
    "The __CAST()__ function succeeds only when the target data type can accommodate the original value. Casting an integer as text is possible, because the character types can include numbers. Casting text with letters of the alphabet as a number is not."
   ]
  },
  {
   "cell_type": "code",
   "execution_count": null,
   "id": "473b9df2",
   "metadata": {},
   "outputs": [],
   "source": [
    "SELECT timestamp_column, CAST(timestamp_column AS varchar(10)) \n",
    "FROM date_time_types;\n",
    "\n",
    "SELECT numeric_column,\n",
    "    CAST(numeric_column AS integer), \n",
    "    CAST(numeric_column AS text)\n",
    "FROM number_data_types;\n",
    "\n",
    "SELECT CAST(char_column AS integer) FROM char_data_types;"
   ]
  },
  {
   "cell_type": "markdown",
   "id": "7fa1515c",
   "metadata": {},
   "source": [
    "## Using CAST Shortcut Notation\n",
    "\n",
    "Insert the double colon in between the name of the column and the data type you want to convert it to. For example, these two statements cast _timestamp_column_ as a _varchar_:"
   ]
  },
  {
   "cell_type": "code",
   "execution_count": null,
   "id": "4fc6d14a",
   "metadata": {},
   "outputs": [],
   "source": [
    "SELECT timestamp_column, CAST(timestamp_column AS varchar(10))\n",
    "FROM date_time_types;\n",
    "S\n",
    "ELECT timestamp_column::varchar(10)\n",
    "FROM date_time_types;"
   ]
  },
  {
   "cell_type": "markdown",
   "id": "032c4f81",
   "metadata": {},
   "source": [
    "## TRY IT YOURSELF\n",
    "\n",
    "__Continue exploring data types with these exercises:__\n",
    "\n",
    "__Your company delivers fruit and vegetables to local grocery stores, and you need to track the mileage driven by each driver each day to a tenth of a mile. Assuming no driver would ever travel more than 999 miles in a day, what would be an appropriate data type for the mileage column in your table? Why?__"
   ]
  },
  {
   "cell_type": "markdown",
   "id": "b677cf47",
   "metadata": {},
   "source": [
    "__numeric(4,1)__\n",
    "\n",
    "The data type numeric(4,1) consists of four digits in total (the precision) and one digit after the decimal point (the scale). This choice would allow you to store a value as large as 999.9.\n",
    "\n",
    "The reason for selecting this data type is that it precisely fits the given assumption that no driver would ever travel more than 999 miles in a day. By using four digits for the total precision, we can accommodate any number between 0 and 999, and the one-digit scale after the decimal point allows us to represent the tenth of a mile accurately.\n",
    "\n",
    "However, it's essential to consider the practical aspect that real-world scenarios might not always align perfectly with assumptions. There could be exceptional cases where a driver's mileage exceeds 999.9 miles in a day. In such cases, the data type \"numeric(5,1)\" could be more suitable, as it would provide an additional digit for the total precision, allowing you to store values as large as 9999.9 miles."
   ]
  },
  {
   "cell_type": "markdown",
   "id": "b0ed6853",
   "metadata": {},
   "source": [
    "__In the table listing each driver in your company, what are appropriate data types for the drivers’ first and last names? Why is it a good idea to separate first and last names into two columns rather than having one larger name column?__"
   ]
  },
  {
   "cell_type": "markdown",
   "id": "6fbfde10",
   "metadata": {},
   "source": [
    "__varchar(50)__ or __text__\n",
    "\n",
    "__varchar(50):__  It is a suitable choice for storing names as it allows you to efficiently use storage space when names are shorter than the maximum limit.\n",
    "__text:__ The \"text\" data type is another option, which can store a large amount of character data, making it suitable for longer names or other text-based data. It doesn't have a specific maximum length, which means it can accommodate exceptionally long names if they occur.\n",
    "\n",
    "_Separating First and Last Names:_\n",
    "\n",
    "It is a good idea to separate first and last names into two distinct columns for several reasons:\n",
    "\n",
    "1. Flexibility: Having separate columns for first and last names allows for better flexibility when handling names. You can easily perform operations on each name independently, such as searching, sorting, or filtering based on either the first or last name.\n",
    "\n",
    "2. Avoiding Data Duplication: Storing full names in a single column might lead to data duplication. For example, if two drivers have the same last name but different first names, you would end up repeating the last name for each entry, which wastes storage space and may make the database harder to maintain.\n",
    "\n",
    "3. Data Integrity: Splitting names into two columns enhances data integrity. It ensures that each name component is stored separately and reduces the risk of unintentional data corruption or errors."
   ]
  },
  {
   "cell_type": "markdown",
   "id": "25454a92",
   "metadata": {},
   "source": [
    "__Assume you have a text column that includes strings formatted as dates. One of the strings is written as '4//2021'. What will happen when you try to convert that string to the timestamp data type?__"
   ]
  },
  {
   "cell_type": "markdown",
   "id": "579dfded",
   "metadata": {},
   "source": [
    "Attempting to convert a string of text that does not conform to accepted date/time formats will result in an error. You can see this with the below example, which tries to cast the string as a timestamp.\n",
    "\n"
   ]
  },
  {
   "cell_type": "code",
   "execution_count": null,
   "id": "f1e43414",
   "metadata": {},
   "outputs": [],
   "source": [
    "SELECT CAST('4//2021' AS timestamp with time zone);"
   ]
  },
  {
   "cell_type": "markdown",
   "id": "6fe03b65",
   "metadata": {},
   "source": [
    "The correct date format typically includes a day, month, and year separated by appropriate characters like slashes or hyphens, such as '04/2021' or '2021-04-01'. Since '4//2021' does not adhere to this standard date format, the database will raise an error during the conversion attempt.\n",
    "\n",
    "To successfully convert the string to a timestamp, you would need to ensure that the date string is correctly formatted with all the necessary date components and appropriate separators, adhering to the standard date format recognized by your database."
   ]
  },
  {
   "cell_type": "code",
   "execution_count": null,
   "id": "45f107d6",
   "metadata": {},
   "outputs": [],
   "source": []
  }
 ],
 "metadata": {
  "kernelspec": {
   "display_name": "Python 3 (ipykernel)",
   "language": "python",
   "name": "python3"
  },
  "language_info": {
   "codemirror_mode": {
    "name": "ipython",
    "version": 3
   },
   "file_extension": ".py",
   "mimetype": "text/x-python",
   "name": "python",
   "nbconvert_exporter": "python",
   "pygments_lexer": "ipython3",
   "version": "3.10.9"
  }
 },
 "nbformat": 4,
 "nbformat_minor": 5
}
