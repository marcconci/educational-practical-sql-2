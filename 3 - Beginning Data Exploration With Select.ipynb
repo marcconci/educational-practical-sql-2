{
 "cells": [
  {
   "cell_type": "markdown",
   "id": "b677bec9",
   "metadata": {},
   "source": [
    "## Beginning Data Exploration With Select"
   ]
  },
  {
   "cell_type": "markdown",
   "id": "c57048f2",
   "metadata": {},
   "source": [
    "Interviewing the data is exciting because you discover truths. Your findings become part of the data’s story.\n",
    "\n",
    "In SQL, interviewing data starts with the SELECT keyword, which retrieves rows and columns from one or more of the tables in a database. A __SELECT__ statement can be simple, retrieving everything in a single table, or it can be complex enough to link dozens of tables while handling multiple calculations and filtering by exact criteria."
   ]
  },
  {
   "cell_type": "markdown",
   "id": "15edbebd",
   "metadata": {},
   "source": [
    "### Basic SELECT Syntax"
   ]
  },
  {
   "cell_type": "markdown",
   "id": "d58ccd50",
   "metadata": {},
   "source": [
    "Here’s a SELECT statement that fetches every row and column in a table called my_table:"
   ]
  },
  {
   "cell_type": "code",
   "execution_count": null,
   "id": "c5b570cf",
   "metadata": {},
   "outputs": [],
   "source": [
    "SELECT * FROM my_table;"
   ]
  },
  {
   "cell_type": "code",
   "execution_count": null,
   "id": "c207d97d",
   "metadata": {},
   "outputs": [],
   "source": [
    "TABLE my_table;"
   ]
  },
  {
   "cell_type": "markdown",
   "id": "db244232",
   "metadata": {},
   "source": [
    "### Querying a Subset of Columns"
   ]
  },
  {
   "cell_type": "markdown",
   "id": "4cce5500",
   "metadata": {},
   "source": [
    "Often, it’s more practical to limit the columns the query retrieves, especially with large databases, so you don’t have to wade through excess information. You can do this by naming columns, separated by commas, right after the __SELECT__ keyword. Here’s an example:"
   ]
  },
  {
   "cell_type": "code",
   "execution_count": null,
   "id": "a9ef6333",
   "metadata": {},
   "outputs": [],
   "source": [
    "SELECT some_column, another_column, amazing_column FROM table_name;"
   ]
  },
  {
   "cell_type": "markdown",
   "id": "f4522fb4",
   "metadata": {},
   "source": [
    "### Sorting Data with ORDER BY"
   ]
  },
  {
   "cell_type": "markdown",
   "id": "0f754cb1",
   "metadata": {},
   "source": [
    "In SQL, we order the results of a query using a clause containing the keywords __ORDER BY__ followed by the name of the column or columns to sort."
   ]
  },
  {
   "cell_type": "code",
   "execution_count": null,
   "id": "502ec874",
   "metadata": {},
   "outputs": [],
   "source": [
    "SELECT first_name, last_name, salary FROM teachers\n",
    "ORDER BY salary DESC"
   ]
  },
  {
   "cell_type": "markdown",
   "id": "084e660c",
   "metadata": {},
   "source": [
    "By default, __ORDER BY__ sorts values in ascending order, but here I sort in descending order by adding the __DESC__ keyword. (The optional __ASC__ keyword\n",
    "specifies sorting in ascending order.)"
   ]
  },
  {
   "cell_type": "markdown",
   "id": "4512c55a",
   "metadata": {},
   "source": [
    "Digesting data happens most easily when the result focuses on answering a specific question; therefore, a better strategy is to limit the number of columns in your query to only the most important and then run several queries to answer each question you have."
   ]
  },
  {
   "cell_type": "markdown",
   "id": "ed3017ff",
   "metadata": {},
   "source": [
    "### Using DISTINCT to Find Unique Values"
   ]
  },
  {
   "cell_type": "markdown",
   "id": "63620a66",
   "metadata": {},
   "source": [
    "To understand the range of values in a column, we can use the DISTINCT keyword as part of a query that eliminates duplicates and shows only\n",
    "unique values."
   ]
  },
  {
   "cell_type": "code",
   "execution_count": null,
   "id": "bfb4aa28",
   "metadata": {},
   "outputs": [],
   "source": [
    "SELECT DISTINCT school FROM teachers\n",
    "ORDER BY school;"
   ]
  },
  {
   "cell_type": "markdown",
   "id": "d80312ed",
   "metadata": {},
   "source": [
    "When you’re working with dates or numbers, DISTINCT will help highlight inconsistent or broken formatting. For example, you might inherit a dataset in which dates were entered in a column formatted with a text\n",
    "data type."
   ]
  },
  {
   "cell_type": "markdown",
   "id": "43f75af8",
   "metadata": {},
   "source": [
    "The DISTINCT keyword also works on more than one column at a time. If we add a column, the query returns each unique pair of values. "
   ]
  },
  {
   "cell_type": "code",
   "execution_count": null,
   "id": "2100461e",
   "metadata": {},
   "outputs": [],
   "source": [
    "SELECT DISTINCT school, salary FROM teachers\n",
    "ORDER BY school, salary;"
   ]
  },
  {
   "cell_type": "markdown",
   "id": "3b8c5ea4",
   "metadata": {},
   "source": [
    "This technique gives us the ability to ask, “For each x in the table, what are all the y values?” For each factory, what are all the chemicals it produces? For each election district, who are all the candidates running for\n",
    "office? For each concert hall, who are the artists playing this month?"
   ]
  },
  {
   "cell_type": "markdown",
   "id": "95a2f84e",
   "metadata": {},
   "source": [
    "### Filtering Rows with WHERE"
   ]
  },
  {
   "cell_type": "markdown",
   "id": "e006876a",
   "metadata": {},
   "source": [
    "Sometimes, you’ll want to limit the rows a query returns to only those in which one or more columns meet certain criteria."
   ]
  },
  {
   "cell_type": "markdown",
   "id": "c8cd6d44",
   "metadata": {},
   "source": [
    "The WHERE clause allows you to find rows that match a specific value, a range of values, or multiple values based on criteria supplied via an operator—a keyword that lets us perform math, comparison, and logical\n",
    "operations. You also can use criteria to exclude rows."
   ]
  },
  {
   "cell_type": "code",
   "execution_count": null,
   "id": "5f9b0f11",
   "metadata": {},
   "outputs": [],
   "source": [
    "SELECT last_name, school, hire_date FROM teachers\n",
    "WHERE school = 'Myers Middle School';"
   ]
  },
  {
   "cell_type": "markdown",
   "id": "b827797a",
   "metadata": {},
   "source": [
    "Note that in standard SQL syntax, the WHERE clause follows the FROM keyword and the name of the table or tables\n",
    "being queried."
   ]
  },
  {
   "cell_type": "markdown",
   "id": "efa140ad",
   "metadata": {},
   "source": [
    "### Using LIKE and ILIKE with WHERE"
   ]
  },
  {
   "cell_type": "markdown",
   "id": "b79c56e9",
   "metadata": {},
   "source": [
    "The LIKE operator, which is part of the ANSI SQL standard, is case sensitive. The ILIKE operator, which is a PostgreSQL-only implementation, is case insensitive."
   ]
  },
  {
   "cell_type": "markdown",
   "id": "4297cad8",
   "metadata": {},
   "source": [
    "To use LIKE and ILIKE, you specify a pattern to match using one or both of these symbols: \n",
    "- __Percent sign (%)__ A wildcard matching one or more characters\n",
    "- __Underscore (_)__ A wildcard matching just one character"
   ]
  },
  {
   "cell_type": "code",
   "execution_count": null,
   "id": "8363a78c",
   "metadata": {},
   "outputs": [],
   "source": [
    "SELECT first_name FROM teachers\n",
    "WHERE first_name LIKE 'sam%';\n",
    "SELECT first_name FROM teachers\n",
    "WHERE first_name ILIKE 'sam%';"
   ]
  },
  {
   "cell_type": "markdown",
   "id": "831b5a42",
   "metadata": {},
   "source": [
    "### Combining Operators with AND and OR"
   ]
  },
  {
   "cell_type": "markdown",
   "id": "d789afc3",
   "metadata": {},
   "source": [
    "Comparison operators become even more useful when we combine them. To do this, we connect them using the logical operators AND and OR along with, if needed, parentheses."
   ]
  },
  {
   "cell_type": "code",
   "execution_count": null,
   "id": "c049bea3",
   "metadata": {},
   "outputs": [],
   "source": [
    "SELECT * FROM teachers\n",
    "WHERE school = 'Myers Middle School' AND salary < 40000;\n",
    "\n",
    "SELECT * FROM teachers\n",
    "WHERE last_name = 'Cole' OR last_name = 'Bush';\n",
    "\n",
    "SELECT * FROM teachers \n",
    "WHERE school = 'F.D. Roosevelt HS'\n",
    "AND (salary < 38000 OR salary > 40000);"
   ]
  },
  {
   "cell_type": "markdown",
   "id": "68a7086a",
   "metadata": {},
   "source": [
    "### Putting It All Together"
   ]
  },
  {
   "cell_type": "code",
   "execution_count": null,
   "id": "f58f97bd",
   "metadata": {},
   "outputs": [],
   "source": [
    "SELECT column_names\n",
    "FROM table_name \n",
    "WHERE criteria\n",
    "ORDER BY column_names;"
   ]
  },
  {
   "cell_type": "markdown",
   "id": "1ccca602",
   "metadata": {},
   "source": [
    "### TRY IT YOURSELF"
   ]
  },
  {
   "cell_type": "markdown",
   "id": "2e34802e",
   "metadata": {},
   "source": [
    "Explore basic queries with these exercises: \n",
    "\n",
    "The school district superintendent asks for a list of teachers in each school. Write a query that lists the schools in alphabetical order along with teachers ordered by last name A–Z.\n",
    "\n",
    "Write a query that finds the one teacher whose first name starts with the letter S and who earns more than $40,000.\n",
    "Rank teachers hired since January 1, 2010, ordered by highest paid to lowest."
   ]
  },
  {
   "cell_type": "code",
   "execution_count": null,
   "id": "7ef756ab",
   "metadata": {},
   "outputs": [],
   "source": [
    "SELECT school, first_name, last_name\n",
    "FROM teachers\n",
    "ORDER BY school, last_name;"
   ]
  },
  {
   "cell_type": "code",
   "execution_count": null,
   "id": "470ac85b",
   "metadata": {},
   "outputs": [],
   "source": [
    "SELECT first_name, last_name, school, salary\n",
    "FROM teachers\n",
    "WHERE first_name LIKE 'S%' AND salary > 40000;"
   ]
  },
  {
   "cell_type": "code",
   "execution_count": null,
   "id": "a1981edb",
   "metadata": {},
   "outputs": [],
   "source": [
    "SELECT last_name, first_name, school, hire_date, salary\n",
    "FROM teachers\n",
    "WHERE hire_date >= '2010-01-01'\n",
    "ORDER BY salary DESC;"
   ]
  }
 ],
 "metadata": {
  "kernelspec": {
   "display_name": "Python 3 (ipykernel)",
   "language": "python",
   "name": "python3"
  },
  "language_info": {
   "codemirror_mode": {
    "name": "ipython",
    "version": 3
   },
   "file_extension": ".py",
   "mimetype": "text/x-python",
   "name": "python",
   "nbconvert_exporter": "python",
   "pygments_lexer": "ipython3",
   "version": "3.10.9"
  }
 },
 "nbformat": 4,
 "nbformat_minor": 5
}
