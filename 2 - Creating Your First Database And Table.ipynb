{
 "cells": [
  {
   "cell_type": "markdown",
   "id": "7478960d",
   "metadata": {},
   "source": [
    "## 2 - Creating Your First Database And Table"
   ]
  },
  {
   "cell_type": "markdown",
   "id": "f4cf6535",
   "metadata": {},
   "source": [
    "To create a database, you need just one line of SQL, which we’ll run in a moment using pgAdmin. You can find this code, along with all the examples in this book, in the files you downloaded from\n",
    "GitHub via the link at https://www.nostarch.com/practical-sql-2nd-edition/."
   ]
  },
  {
   "cell_type": "markdown",
   "id": "2a33cb60",
   "metadata": {},
   "source": [
    "__Listing 2-1: Creating a database named analysis__"
   ]
  },
  {
   "cell_type": "code",
   "execution_count": null,
   "id": "c60e9ead",
   "metadata": {},
   "outputs": [],
   "source": [
    "CREATE DATABASE analysis;"
   ]
  },
  {
   "cell_type": "markdown",
   "id": "e159c7d4",
   "metadata": {},
   "source": [
    "### Using the CREATE TABLE Statement"
   ]
  },
  {
   "cell_type": "markdown",
   "id": "df2fad69",
   "metadata": {},
   "source": [
    "For this exercise, we’ll use an often-discussed piece of data: teacher salaries. Listing 2-2 shows the SQL statement to create a table called teachers. Let’s review the code before you enter it into pgAdmin and execute it."
   ]
  },
  {
   "cell_type": "markdown",
   "id": "99797a98",
   "metadata": {},
   "source": [
    "__Listing 2-2: Creating a table named teachers with six columns__\n"
   ]
  },
  {
   "cell_type": "code",
   "execution_count": null,
   "id": "89aa1b8c",
   "metadata": {},
   "outputs": [],
   "source": [
    "CREATE TABLE teachers (\n",
    "    id bigserial,\n",
    "    first_name varchar(25),\n",
    "    last_name varchar(50),\n",
    "    school varchar(50),\n",
    "    hire_date date,\n",
    "    salary numeric\n",
    ");"
   ]
  },
  {
   "cell_type": "markdown",
   "id": "7f693cd7",
   "metadata": {},
   "source": [
    "The code begins with the two SQL keywords __CREATE__ and __TABLE 1__ that, together with the name teachers, signal PostgreSQL that the next bit of code describes a table to add to the database. Following an opening parenthesis, the statement includes a comma-separated list of column names along with their data types. For style purposes, each new line of code is on its own line and indented four spaces, which isn’t required but makes the code more readable."
   ]
  },
  {
   "cell_type": "markdown",
   "id": "85891dd8",
   "metadata": {},
   "source": [
    "Each column name represents one discrete data element defined by a data type. The __id column 2__ is of data type __bigserial__, a special integer type that auto-increments every time you add a row to the table. The first row receives the value of 1 in the id column, the second row 2, and so on."
   ]
  },
  {
   "cell_type": "markdown",
   "id": "a51e5e2f",
   "metadata": {},
   "source": [
    "Next, we create columns for the teacher’s first name and last name and for the school where they teach 3. Each is of the data type varchar, a text column with a maximum length specified by the number in parentheses."
   ]
  },
  {
   "cell_type": "markdown",
   "id": "bbe3c808",
   "metadata": {},
   "source": [
    "The teacher’s __hire_date 4__ is set to the data type __date__, and the __salary column 5__ is __numeric__. "
   ]
  },
  {
   "cell_type": "markdown",
   "id": "ecce9222",
   "metadata": {},
   "source": [
    "### Using the INSERT Statement"
   ]
  },
  {
   "cell_type": "markdown",
   "id": "30c41830",
   "metadata": {},
   "source": [
    "To insert some data into the table, you first need to erase the CREATE TABLE statement you just ran. "
   ]
  },
  {
   "cell_type": "markdown",
   "id": "691ef532",
   "metadata": {},
   "source": [
    "__Listing 2-3 Inserting data into the teachers table__"
   ]
  },
  {
   "cell_type": "code",
   "execution_count": null,
   "id": "96212bb6",
   "metadata": {},
   "outputs": [],
   "source": [
    "INSERT INTO teachers (first_name, last_name, school, hire_date, salary)\n",
    "VALUES ('Janet', 'Smith', 'F.D. Roosevelt HS', '2011-10-30', 36200),\n",
    "       ('Lee', 'Reynolds', 'F.D. Roosevelt HS', '1993-05-22', 65000),\n",
    "       ('Samuel', 'Cole', 'Myers Middle School', '2005-08-01', 43500),\n",
    "       ('Samantha', 'Bush', 'Myers Middle School', '2011-10-30', 36200),\n",
    "       ('Betty', 'Diaz', 'Myers Middle School', '2005-08-30', 43500),\n",
    "       ('Kathleen', 'Roush', 'F.D. Roosevelt HS', '2010-10-22', 38500);"
   ]
  },
  {
   "cell_type": "markdown",
   "id": "eaed6646",
   "metadata": {},
   "source": [
    "This code block inserts names and data for six teachers. Here, the PostgreSQL syntax follows the ANSI SQL standard: after the __INSERT INTO__ keywords is the name of the table, and in parentheses are the columns to be filled 1. In the next row are the __VALUES__ keyword and the data to insert into each column in each row 2. You need to enclose the data for each row in a set of parentheses, and inside each set of parentheses, use a comma to separate each column value. The order of the values must also match the order of the columns specified after the table name. Each row of data ends with a comma, except the last row, which ends the entire statement with a semicolon 3."
   ]
  },
  {
   "cell_type": "markdown",
   "id": "cf922db5",
   "metadata": {},
   "source": [
    "Notice that certain values that we’re inserting are enclosed in single quotes, but some are not. This is a standard SQL requirement. Text and dates require quotes; numbers, including integers and decimals, don’t require quotes."
   ]
  },
  {
   "cell_type": "markdown",
   "id": "76a9c527",
   "metadata": {},
   "source": [
    "### TRY IT YOURSELF"
   ]
  },
  {
   "cell_type": "markdown",
   "id": "d6ae541a",
   "metadata": {},
   "source": [
    "Here are two exercises to help you explore concepts related to databases, tables, and data relationships:\n",
    "\n",
    "Imagine you’re building a database to catalog all the animals at your local zoo. You want one table to track the kinds of animals in the collection and another table to track the specifics on each animal. Write __CREATE TABLE__ statements for each table that include some of the columns you need. Why did you include the columns you chose?\n",
    "\n",
    "Now create __INSERT__ statements to load sample data into the tables. How can you view the data via the pgAdmin tool? Create an additional __INSERT__ statement for one of your tables. Purposely omit one of the required commas separating the entries in the __VALUES__ clause of the query. What is the error message? Would it help you find the error in the code?\n",
    "\n",
    "Solutions to all exercises are available in the Try_It_Yourself.sql file included with the\n",
    "book’s resources."
   ]
  },
  {
   "cell_type": "code",
   "execution_count": null,
   "id": "90c47ff4",
   "metadata": {},
   "outputs": [],
   "source": [
    "#The first table will hold the animal types and their conservation status:\n",
    "\n",
    "CREATE TABLE animal_types (\n",
    "    animal_type_id bigint PRIMARY KEY GENERATED ALWAYS AS IDENTITY,\n",
    "    common_name text NOT NULL,\n",
    "    scientific_name text NOT NULL,\n",
    "    conservation_status text NOT NULL,\n",
    "    CONSTRAINT common_name_unique UNIQUE (common_name)\n",
    ");"
   ]
  },
  {
   "cell_type": "code",
   "execution_count": 1,
   "id": "64378e02",
   "metadata": {},
   "outputs": [],
   "source": [
    "# The second table will hold data on individual animals. Note that the column animal_type_id references the column of the same name in the table animal types.\n",
    "\n",
    "CREATE TABLE menagerie (\n",
    "   menagerie_id bigint PRIMARY KEY GENERATED ALWAYS AS IDENTITY,\n",
    "   common_name text REFERENCES animal_types (common_name),\n",
    "   date_acquired date NOT NULL,\n",
    "   gender text,\n",
    "   acquired_from text,\n",
    "   name text,\n",
    "   notes text\n",
    ");"
   ]
  },
  {
   "cell_type": "code",
   "execution_count": null,
   "id": "84a43d5b",
   "metadata": {},
   "outputs": [],
   "source": [
    "# Data source: https://www.worldwildlife.org/species/directory?direction=desc&sort=extinction_status\n",
    "\n",
    "INSERT INTO animal_types (common_name, scientific_name, conservation_status)\n",
    "VALUES ('Bengal Tiger', 'Panthera tigris tigris', 'Endangered'),\n",
    "       ('Arctic Wolf', 'Canis lupus arctos', 'Least Concern');"
   ]
  },
  {
   "cell_type": "code",
   "execution_count": null,
   "id": "f130b09b",
   "metadata": {},
   "outputs": [],
   "source": [
    "INSERT INTO menagerie (common_name, date_acquired, gender, acquired_from, name, notes)\n",
    "VALUES\n",
    "('Bengal Tiger', '3/12/1996', 'F', 'Dhaka Zoo', 'Ariel', 'Healthy coat at last exam.'),\n",
    "('Arctic Wolf', '9/30/2000', 'F', 'National Zoo', 'Freddy', 'Strong appetite.');"
   ]
  },
  {
   "cell_type": "code",
   "execution_count": null,
   "id": "ba4a7187",
   "metadata": {},
   "outputs": [],
   "source": [
    "# To view data via pgAdmin, in the object browser, right-click Tables and\n",
    "# select Refresh. Then right-click the table name and select\n",
    "# View/Edit Data > All Rows"
   ]
  },
  {
   "cell_type": "code",
   "execution_count": null,
   "id": "85367529",
   "metadata": {},
   "outputs": [],
   "source": [
    "#In this case, the error message points to the missing comma.\n",
    "\n",
    "INSERT INTO animal_types (common_name, scientific_name, conservation_status)\n",
    "VALUES ('Javan Rhino', 'Rhinoceros sondaicus' 'Critically Endangered');"
   ]
  }
 ],
 "metadata": {
  "kernelspec": {
   "display_name": "Python 3 (ipykernel)",
   "language": "python",
   "name": "python3"
  },
  "language_info": {
   "codemirror_mode": {
    "name": "ipython",
    "version": 3
   },
   "file_extension": ".py",
   "mimetype": "text/x-python",
   "name": "python",
   "nbconvert_exporter": "python",
   "pygments_lexer": "ipython3",
   "version": "3.10.9"
  }
 },
 "nbformat": 4,
 "nbformat_minor": 5
}
