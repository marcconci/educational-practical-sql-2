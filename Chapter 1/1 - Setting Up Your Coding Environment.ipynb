{
 "cells": [
  {
   "cell_type": "markdown",
   "id": "971451ad",
   "metadata": {},
   "source": [
    "### Listing 1-1: Checking your PostgreSQL version"
   ]
  },
  {
   "cell_type": "markdown",
   "id": "5a42480d",
   "metadata": {},
   "source": [
    "Let’s run a simple query and see its output, using the statement below that returns the version of PostgreSQL you’ve installed."
   ]
  },
  {
   "cell_type": "code",
   "execution_count": null,
   "id": "99d095b5",
   "metadata": {},
   "outputs": [],
   "source": [
    "SELECT version();"
   ]
  },
  {
   "cell_type": "markdown",
   "id": "7bb62bd7",
   "metadata": {},
   "source": [
    "You’ll learn much more about queries later in the book, but for now all you need to know is that this query uses a PostgreSQL-specific function called version() to retrieve the version information for the server. In my case, the output shows that I’m running PostgreSQL 13.3, and it provides\n",
    "additional specifics on the build of the software."
   ]
  }
 ],
 "metadata": {
  "kernelspec": {
   "display_name": "Python 3 (ipykernel)",
   "language": "python",
   "name": "python3"
  },
  "language_info": {
   "codemirror_mode": {
    "name": "ipython",
    "version": 3
   },
   "file_extension": ".py",
   "mimetype": "text/x-python",
   "name": "python",
   "nbconvert_exporter": "python",
   "pygments_lexer": "ipython3",
   "version": "3.10.9"
  }
 },
 "nbformat": 4,
 "nbformat_minor": 5
}
